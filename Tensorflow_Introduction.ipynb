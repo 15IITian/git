{
  "nbformat": 4,
  "nbformat_minor": 0,
  "metadata": {
    "colab": {
      "provenance": [],
      "authorship_tag": "ABX9TyP4ChaXmxWnk2tgPplbiJnO",
      "include_colab_link": true
    },
    "kernelspec": {
      "name": "python3",
      "display_name": "Python 3"
    },
    "language_info": {
      "name": "python"
    },
    "accelerator": "TPU"
  },
  "cells": [
    {
      "cell_type": "markdown",
      "metadata": {
        "id": "view-in-github",
        "colab_type": "text"
      },
      "source": [
        "<a href=\"https://colab.research.google.com/github/15IITian/git/blob/tensorflow/Tensorflow_Introduction.ipynb\" target=\"_parent\"><img src=\"https://colab.research.google.com/assets/colab-badge.svg\" alt=\"Open In Colab\"/></a>"
      ]
    },
    {
      "cell_type": "code",
      "source": [
        "# if tf.config.list_physical_devices('GPU'):\n",
        "#   print(\"TensorFlow **IS** using the GPU\")\n",
        "# else:\n",
        "#   print(\"TensorFlow **IS NOT** using the GPU\")"
      ],
      "metadata": {
        "id": "2Zpm8kNJc-CH"
      },
      "execution_count": null,
      "outputs": []
    },
    {
      "cell_type": "code",
      "execution_count": null,
      "metadata": {
        "id": "NZy4HeW4TCMZ",
        "colab": {
          "base_uri": "https://localhost:8080/"
        },
        "outputId": "7b8a64e8-7dd9-434f-899e-0e7be96bac2d"
      },
      "outputs": [
        {
          "output_type": "stream",
          "name": "stdout",
          "text": [
            "2.12.0\n"
          ]
        }
      ],
      "source": [
        "import tensorflow as tf\n",
        "print(tf.__version__)"
      ]
    },
    {
      "cell_type": "code",
      "source": [
        "scalar=  tf.constant(7)\n",
        "scalar"
      ],
      "metadata": {
        "colab": {
          "base_uri": "https://localhost:8080/"
        },
        "id": "Ln-1o1ifQgyY",
        "outputId": "d602d6b6-fbd4-452a-e486-ebb00ceafcbe"
      },
      "execution_count": null,
      "outputs": [
        {
          "output_type": "execute_result",
          "data": {
            "text/plain": [
              "<tf.Tensor: shape=(), dtype=int32, numpy=7>"
            ]
          },
          "metadata": {},
          "execution_count": 4
        }
      ]
    },
    {
      "cell_type": "code",
      "source": [
        "scalar.ndim"
      ],
      "metadata": {
        "colab": {
          "base_uri": "https://localhost:8080/"
        },
        "id": "VowzZX0qQpwQ",
        "outputId": "48ce4d5b-8bce-47bc-fa02-2c42925952a8"
      },
      "execution_count": null,
      "outputs": [
        {
          "output_type": "execute_result",
          "data": {
            "text/plain": [
              "0"
            ]
          },
          "metadata": {},
          "execution_count": 5
        }
      ]
    },
    {
      "cell_type": "code",
      "source": [
        "vector= tf.constant([1,2,3,4])\n",
        "vector"
      ],
      "metadata": {
        "colab": {
          "base_uri": "https://localhost:8080/"
        },
        "id": "apqF6RvXRxg_",
        "outputId": "d9f638d9-0799-4697-9c6d-5d495fbb3bba"
      },
      "execution_count": null,
      "outputs": [
        {
          "output_type": "execute_result",
          "data": {
            "text/plain": [
              "<tf.Tensor: shape=(4,), dtype=int32, numpy=array([1, 2, 3, 4], dtype=int32)>"
            ]
          },
          "metadata": {},
          "execution_count": 6
        }
      ]
    },
    {
      "cell_type": "code",
      "source": [],
      "metadata": {
        "id": "beaV7lsNST7Q"
      },
      "execution_count": null,
      "outputs": []
    },
    {
      "cell_type": "code",
      "source": [
        "matrix = tf.constant(\n",
        "[[1,2,3],\n",
        " [4,5,6],\n",
        " [7,8,9]]\n",
        " )\n",
        "matrix\n"
      ],
      "metadata": {
        "colab": {
          "base_uri": "https://localhost:8080/"
        },
        "id": "_OTsjpBPSQYJ",
        "outputId": "a227c592-30a5-47bb-f338-9500d3d14317"
      },
      "execution_count": null,
      "outputs": [
        {
          "output_type": "execute_result",
          "data": {
            "text/plain": [
              "<tf.Tensor: shape=(3, 3), dtype=int32, numpy=\n",
              "array([[1, 2, 3],\n",
              "       [4, 5, 6],\n",
              "       [7, 8, 9]], dtype=int32)>"
            ]
          },
          "metadata": {},
          "execution_count": 7
        }
      ]
    },
    {
      "cell_type": "code",
      "source": [
        "matrix.ndim"
      ],
      "metadata": {
        "colab": {
          "base_uri": "https://localhost:8080/"
        },
        "id": "4dh_-evsShfv",
        "outputId": "d676342d-b6b3-43a5-e055-0876f273a339"
      },
      "execution_count": null,
      "outputs": [
        {
          "output_type": "execute_result",
          "data": {
            "text/plain": [
              "2"
            ]
          },
          "metadata": {},
          "execution_count": 8
        }
      ]
    },
    {
      "cell_type": "code",
      "source": [
        "another_matrix= tf.constant([[1.,2.,3.],\n",
        "                             [4.,5.,6.]] , dtype= tf.float16)\n",
        "another_matrix\n",
        "\n"
      ],
      "metadata": {
        "colab": {
          "base_uri": "https://localhost:8080/"
        },
        "id": "WRFcWT2QSqep",
        "outputId": "b370460b-510e-497a-a2ef-0cf7e5734660"
      },
      "execution_count": null,
      "outputs": [
        {
          "output_type": "execute_result",
          "data": {
            "text/plain": [
              "<tf.Tensor: shape=(2, 3), dtype=float16, numpy=\n",
              "array([[1., 2., 3.],\n",
              "       [4., 5., 6.]], dtype=float16)>"
            ]
          },
          "metadata": {},
          "execution_count": 9
        }
      ]
    },
    {
      "cell_type": "code",
      "source": [
        "tensor= tf.constant([[[[1,2,3],[4,5,6]],\n",
        "  [[7,8,9],[1,2,3]]],\n",
        "   [[[3,2,1],[4,3,2]],\n",
        "    [[5,4,5],[5,5,4]]]])\n",
        "tensor\n"
      ],
      "metadata": {
        "colab": {
          "base_uri": "https://localhost:8080/"
        },
        "id": "NNqO-ov9Thg9",
        "outputId": "8ddbf1b5-85b7-4258-b8a2-47e6d73d39a2"
      },
      "execution_count": null,
      "outputs": [
        {
          "output_type": "execute_result",
          "data": {
            "text/plain": [
              "<tf.Tensor: shape=(2, 2, 2, 3), dtype=int32, numpy=\n",
              "array([[[[1, 2, 3],\n",
              "         [4, 5, 6]],\n",
              "\n",
              "        [[7, 8, 9],\n",
              "         [1, 2, 3]]],\n",
              "\n",
              "\n",
              "       [[[3, 2, 1],\n",
              "         [4, 3, 2]],\n",
              "\n",
              "        [[5, 4, 5],\n",
              "         [5, 5, 4]]]], dtype=int32)>"
            ]
          },
          "metadata": {},
          "execution_count": 10
        }
      ]
    },
    {
      "cell_type": "code",
      "source": [
        "tensor.ndim"
      ],
      "metadata": {
        "colab": {
          "base_uri": "https://localhost:8080/"
        },
        "id": "xRHVdQrtUsxW",
        "outputId": "d7f3ef70-fcc5-4fc1-ae55-8f23e140b634"
      },
      "execution_count": null,
      "outputs": [
        {
          "output_type": "execute_result",
          "data": {
            "text/plain": [
              "4"
            ]
          },
          "metadata": {},
          "execution_count": 11
        }
      ]
    },
    {
      "cell_type": "code",
      "source": [
        "ch= tf.Variable([10,9])\n",
        "unch= tf.constant([10,9])"
      ],
      "metadata": {
        "id": "iYIn6u0nVv0K"
      },
      "execution_count": null,
      "outputs": []
    },
    {
      "cell_type": "code",
      "source": [
        "ch.assign([1,1])"
      ],
      "metadata": {
        "colab": {
          "base_uri": "https://localhost:8080/"
        },
        "id": "ZLBjUXbWLs5p",
        "outputId": "169b356c-1261-4afd-fef5-6dbf426b7d5f"
      },
      "execution_count": null,
      "outputs": [
        {
          "output_type": "execute_result",
          "data": {
            "text/plain": [
              "<tf.Variable 'UnreadVariable' shape=(2,) dtype=int32, numpy=array([1, 1], dtype=int32)>"
            ]
          },
          "metadata": {},
          "execution_count": 13
        }
      ]
    },
    {
      "cell_type": "code",
      "source": [
        "ch.assign_add([1,1])"
      ],
      "metadata": {
        "colab": {
          "base_uri": "https://localhost:8080/"
        },
        "id": "2Asivtu1Lwyk",
        "outputId": "66414300-0b5b-406b-fd01-cbce543ef608"
      },
      "execution_count": null,
      "outputs": [
        {
          "output_type": "execute_result",
          "data": {
            "text/plain": [
              "<tf.Variable 'UnreadVariable' shape=(2,) dtype=int32, numpy=array([2, 2], dtype=int32)>"
            ]
          },
          "metadata": {},
          "execution_count": 14
        }
      ]
    },
    {
      "cell_type": "code",
      "source": [
        "ch"
      ],
      "metadata": {
        "colab": {
          "base_uri": "https://localhost:8080/"
        },
        "id": "IPi4dwRxL59m",
        "outputId": "47421ce7-1b39-4aaf-bd29-36fbfdfc2596"
      },
      "execution_count": null,
      "outputs": [
        {
          "output_type": "execute_result",
          "data": {
            "text/plain": [
              "<tf.Variable 'Variable:0' shape=(2,) dtype=int32, numpy=array([2, 2], dtype=int32)>"
            ]
          },
          "metadata": {},
          "execution_count": 15
        }
      ]
    },
    {
      "cell_type": "code",
      "source": [
        "ch[0].assign(1)\n",
        "ch"
      ],
      "metadata": {
        "colab": {
          "base_uri": "https://localhost:8080/"
        },
        "id": "JbWJO6meZvlB",
        "outputId": "fb1506ef-801e-46a3-c31f-701bca095de3"
      },
      "execution_count": null,
      "outputs": [
        {
          "output_type": "execute_result",
          "data": {
            "text/plain": [
              "<tf.Variable 'Variable:0' shape=(2,) dtype=int32, numpy=array([1, 2], dtype=int32)>"
            ]
          },
          "metadata": {},
          "execution_count": 16
        }
      ]
    },
    {
      "cell_type": "code",
      "source": [
        "random_1= tf.random.Generator.from_seed(42)\n",
        "random_1= random_1.normal(shape=(3,2))\n",
        "random_2=tf.random.Generator.from_seed(41)\n",
        "random_2= random_2.normal(shape=(3,2))\n",
        "\n",
        "\n",
        "\n",
        "random_1, random_2, random_1 == random_2\n"
      ],
      "metadata": {
        "colab": {
          "base_uri": "https://localhost:8080/"
        },
        "id": "R_PVTi6FZ13i",
        "outputId": "93c09d7e-51a8-40e1-c602-acce91c81b75"
      },
      "execution_count": null,
      "outputs": [
        {
          "output_type": "execute_result",
          "data": {
            "text/plain": [
              "(<tf.Tensor: shape=(3, 2), dtype=float32, numpy=\n",
              " array([[-0.7565803 , -0.06854702],\n",
              "        [ 0.07595026, -1.2573844 ],\n",
              "        [-0.23193763, -1.8107855 ]], dtype=float32)>,\n",
              " <tf.Tensor: shape=(3, 2), dtype=float32, numpy=\n",
              " array([[ 0.31662667, -1.4391748 ],\n",
              "        [ 0.58923835, -1.4268045 ],\n",
              "        [-0.7565803 , -0.06854702]], dtype=float32)>,\n",
              " <tf.Tensor: shape=(3, 2), dtype=bool, numpy=\n",
              " array([[False, False],\n",
              "        [False, False],\n",
              "        [False, False]])>)"
            ]
          },
          "metadata": {},
          "execution_count": 17
        }
      ]
    },
    {
      "cell_type": "markdown",
      "source": [
        "### Shuffling ->"
      ],
      "metadata": {
        "id": "jAzcp4s8O4R1"
      }
    },
    {
      "cell_type": "code",
      "source": [
        "var= tf.constant([[1,2,3],[4,5,6], [12,13,14]])\n",
        "var"
      ],
      "metadata": {
        "id": "axtYMb_JaLAe",
        "colab": {
          "base_uri": "https://localhost:8080/"
        },
        "outputId": "b5de63c5-6f8b-43e6-8412-4567b553f3e1"
      },
      "execution_count": null,
      "outputs": [
        {
          "output_type": "execute_result",
          "data": {
            "text/plain": [
              "<tf.Tensor: shape=(3, 3), dtype=int32, numpy=\n",
              "array([[ 1,  2,  3],\n",
              "       [ 4,  5,  6],\n",
              "       [12, 13, 14]], dtype=int32)>"
            ]
          },
          "metadata": {},
          "execution_count": 18
        }
      ]
    },
    {
      "cell_type": "code",
      "source": [
        "tf.random.shuffle(var)\n"
      ],
      "metadata": {
        "colab": {
          "base_uri": "https://localhost:8080/"
        },
        "id": "KVHFrlObPo4N",
        "outputId": "c3e21666-5c3c-4255-e968-744ce256532a"
      },
      "execution_count": null,
      "outputs": [
        {
          "output_type": "execute_result",
          "data": {
            "text/plain": [
              "<tf.Tensor: shape=(3, 3), dtype=int32, numpy=\n",
              "array([[ 1,  2,  3],\n",
              "       [ 4,  5,  6],\n",
              "       [12, 13, 14]], dtype=int32)>"
            ]
          },
          "metadata": {},
          "execution_count": 19
        }
      ]
    },
    {
      "cell_type": "code",
      "source": [
        "tf.random.shuffle(var, seed =42)\n",
        "\n"
      ],
      "metadata": {
        "colab": {
          "base_uri": "https://localhost:8080/"
        },
        "id": "k--5j0UGQIRo",
        "outputId": "24d20f33-5b53-4ead-bf41-6da682356403"
      },
      "execution_count": null,
      "outputs": [
        {
          "output_type": "execute_result",
          "data": {
            "text/plain": [
              "<tf.Tensor: shape=(3, 3), dtype=int32, numpy=\n",
              "array([[12, 13, 14],\n",
              "       [ 4,  5,  6],\n",
              "       [ 1,  2,  3]], dtype=int32)>"
            ]
          },
          "metadata": {},
          "execution_count": 20
        }
      ]
    },
    {
      "cell_type": "code",
      "source": [
        "tf.random.set_seed(42)\n",
        "tf.random.shuffle(var, 1)"
      ],
      "metadata": {
        "colab": {
          "base_uri": "https://localhost:8080/"
        },
        "id": "tHC_KuNWRT2y",
        "outputId": "88c72fae-0b77-4fa1-d112-d58adcde65aa"
      },
      "execution_count": null,
      "outputs": [
        {
          "output_type": "execute_result",
          "data": {
            "text/plain": [
              "<tf.Tensor: shape=(3, 3), dtype=int32, numpy=\n",
              "array([[ 1,  2,  3],\n",
              "       [12, 13, 14],\n",
              "       [ 4,  5,  6]], dtype=int32)>"
            ]
          },
          "metadata": {},
          "execution_count": 21
        }
      ]
    },
    {
      "cell_type": "code",
      "source": [
        "tf.random.set_seed(100)\n",
        "tf.random.shuffle(var)"
      ],
      "metadata": {
        "colab": {
          "base_uri": "https://localhost:8080/"
        },
        "id": "aDDLwSl-S0HW",
        "outputId": "b3ba312e-acf2-44b3-a8cb-007cc8d52e2e"
      },
      "execution_count": null,
      "outputs": [
        {
          "output_type": "execute_result",
          "data": {
            "text/plain": [
              "<tf.Tensor: shape=(3, 3), dtype=int32, numpy=\n",
              "array([[12, 13, 14],\n",
              "       [ 1,  2,  3],\n",
              "       [ 4,  5,  6]], dtype=int32)>"
            ]
          },
          "metadata": {},
          "execution_count": 22
        }
      ]
    },
    {
      "cell_type": "code",
      "source": [
        "tf.ones(shape=(3,2))"
      ],
      "metadata": {
        "id": "hFPUTr1qT8aZ",
        "colab": {
          "base_uri": "https://localhost:8080/"
        },
        "outputId": "b020c464-6157-44db-b6c0-217e36c5b6d7"
      },
      "execution_count": null,
      "outputs": [
        {
          "output_type": "execute_result",
          "data": {
            "text/plain": [
              "<tf.Tensor: shape=(3, 2), dtype=float32, numpy=\n",
              "array([[1., 1.],\n",
              "       [1., 1.],\n",
              "       [1., 1.]], dtype=float32)>"
            ]
          },
          "metadata": {},
          "execution_count": 23
        }
      ]
    },
    {
      "cell_type": "code",
      "source": [
        "tf.zeros(shape=(3,2))"
      ],
      "metadata": {
        "colab": {
          "base_uri": "https://localhost:8080/"
        },
        "id": "tZzBql1KqwNe",
        "outputId": "26c84779-f583-44ec-bcba-64bb2cdc989f"
      },
      "execution_count": null,
      "outputs": [
        {
          "output_type": "execute_result",
          "data": {
            "text/plain": [
              "<tf.Tensor: shape=(3, 2), dtype=float32, numpy=\n",
              "array([[0., 0.],\n",
              "       [0., 0.],\n",
              "       [0., 0.]], dtype=float32)>"
            ]
          },
          "metadata": {},
          "execution_count": 24
        }
      ]
    },
    {
      "cell_type": "markdown",
      "source": [],
      "metadata": {
        "id": "23YHQN53q93T"
      }
    },
    {
      "cell_type": "code",
      "source": [
        "import numpy as np\n",
        "num_A= np.arange(1,25,  dtype= np.int32)\n",
        "A=tf.constant(num_A, shape= (2,2,3,2))\n",
        "num_A , A"
      ],
      "metadata": {
        "colab": {
          "base_uri": "https://localhost:8080/"
        },
        "id": "xwUls1Ozq0bd",
        "outputId": "b7291dab-f73a-49cc-e558-fee52b874712"
      },
      "execution_count": null,
      "outputs": [
        {
          "output_type": "execute_result",
          "data": {
            "text/plain": [
              "(array([ 1,  2,  3,  4,  5,  6,  7,  8,  9, 10, 11, 12, 13, 14, 15, 16, 17,\n",
              "        18, 19, 20, 21, 22, 23, 24], dtype=int32),\n",
              " <tf.Tensor: shape=(2, 2, 3, 2), dtype=int32, numpy=\n",
              " array([[[[ 1,  2],\n",
              "          [ 3,  4],\n",
              "          [ 5,  6]],\n",
              " \n",
              "         [[ 7,  8],\n",
              "          [ 9, 10],\n",
              "          [11, 12]]],\n",
              " \n",
              " \n",
              "        [[[13, 14],\n",
              "          [15, 16],\n",
              "          [17, 18]],\n",
              " \n",
              "         [[19, 20],\n",
              "          [21, 22],\n",
              "          [23, 24]]]], dtype=int32)>)"
            ]
          },
          "metadata": {},
          "execution_count": 25
        }
      ]
    },
    {
      "cell_type": "code",
      "source": [
        "rank_4_tensor= tf.zeros([2,3,4,5])\n",
        "rank_4_tensor"
      ],
      "metadata": {
        "colab": {
          "base_uri": "https://localhost:8080/"
        },
        "id": "CIJYr5HErTcN",
        "outputId": "abef0903-a97f-40e1-b8d7-345ba8b870f6"
      },
      "execution_count": null,
      "outputs": [
        {
          "output_type": "execute_result",
          "data": {
            "text/plain": [
              "<tf.Tensor: shape=(2, 3, 4, 5), dtype=float32, numpy=\n",
              "array([[[[0., 0., 0., 0., 0.],\n",
              "         [0., 0., 0., 0., 0.],\n",
              "         [0., 0., 0., 0., 0.],\n",
              "         [0., 0., 0., 0., 0.]],\n",
              "\n",
              "        [[0., 0., 0., 0., 0.],\n",
              "         [0., 0., 0., 0., 0.],\n",
              "         [0., 0., 0., 0., 0.],\n",
              "         [0., 0., 0., 0., 0.]],\n",
              "\n",
              "        [[0., 0., 0., 0., 0.],\n",
              "         [0., 0., 0., 0., 0.],\n",
              "         [0., 0., 0., 0., 0.],\n",
              "         [0., 0., 0., 0., 0.]]],\n",
              "\n",
              "\n",
              "       [[[0., 0., 0., 0., 0.],\n",
              "         [0., 0., 0., 0., 0.],\n",
              "         [0., 0., 0., 0., 0.],\n",
              "         [0., 0., 0., 0., 0.]],\n",
              "\n",
              "        [[0., 0., 0., 0., 0.],\n",
              "         [0., 0., 0., 0., 0.],\n",
              "         [0., 0., 0., 0., 0.],\n",
              "         [0., 0., 0., 0., 0.]],\n",
              "\n",
              "        [[0., 0., 0., 0., 0.],\n",
              "         [0., 0., 0., 0., 0.],\n",
              "         [0., 0., 0., 0., 0.],\n",
              "         [0., 0., 0., 0., 0.]]]], dtype=float32)>"
            ]
          },
          "metadata": {},
          "execution_count": 26
        }
      ]
    },
    {
      "cell_type": "code",
      "source": [
        "rank_4_tensor.ndim"
      ],
      "metadata": {
        "colab": {
          "base_uri": "https://localhost:8080/"
        },
        "id": "pcXl87mFsPRf",
        "outputId": "a7c10b62-0518-44eb-dba8-f1f9c45736bc"
      },
      "execution_count": null,
      "outputs": [
        {
          "output_type": "execute_result",
          "data": {
            "text/plain": [
              "4"
            ]
          },
          "metadata": {},
          "execution_count": 27
        }
      ]
    },
    {
      "cell_type": "code",
      "source": [
        "print(\"Datatype of every element\" , rank_4_tensor.dtype)\n",
        "print(\"No of Dimensions\" ,rank_4_tensor.ndim)\n",
        "print(\"Shape of tensor, \",rank_4_tensor.shape)\n",
        "print(\"Elemets along the axis=1 of tensor \", rank_4_tensor.shape[1])\n",
        "print(\"Elemets along the last axis of tensor\", rank_4_tensor.shape[-1])\n"
      ],
      "metadata": {
        "colab": {
          "base_uri": "https://localhost:8080/"
        },
        "id": "OiFH-9VTt2dJ",
        "outputId": "72913589-dd36-4c4e-9d67-8626c99c0270"
      },
      "execution_count": null,
      "outputs": [
        {
          "output_type": "stream",
          "name": "stdout",
          "text": [
            "Datatype of every element <dtype: 'float32'>\n",
            "No of Dimensions 4\n",
            "Shape of tensor,  (2, 3, 4, 5)\n",
            "Elemets along the axis=1 of tensor  3\n",
            "Elemets along the last axis of tensor 5\n"
          ]
        }
      ]
    },
    {
      "cell_type": "code",
      "source": [
        "rand=tf.random.Generator.from_seed(1234,alg=\"philox\")\n",
        "arr=rand.normal(shape=(3,3)).numpy()\n",
        "arr\n",
        "\n"
      ],
      "metadata": {
        "id": "hh16GEiEvCE3",
        "colab": {
          "base_uri": "https://localhost:8080/"
        },
        "outputId": "e1799caa-cb72-4dcc-a5bf-18b8eba73244"
      },
      "execution_count": null,
      "outputs": [
        {
          "output_type": "execute_result",
          "data": {
            "text/plain": [
              "array([[ 0.9356609 ,  1.0854305 , -0.93788373],\n",
              "       [-0.5061547 ,  1.3169702 ,  0.7137579 ],\n",
              "       [-0.4126717 , -0.40257987,  2.0713255 ]], dtype=float32)"
            ]
          },
          "metadata": {},
          "execution_count": 29
        }
      ]
    },
    {
      "cell_type": "code",
      "source": [
        "# var=tf.random.Generator.from_seed(1234, alg=\"threefry\")\n",
        "# var.normal(shape=(3,3))"
      ],
      "metadata": {
        "id": "IcRD5kldftkj"
      },
      "execution_count": null,
      "outputs": []
    },
    {
      "cell_type": "code",
      "source": [
        "# g = tf.random.Generator.from_non_deterministic_state( alg=\"threefry\")\n",
        "# g.normal(shape=(3,3))"
      ],
      "metadata": {
        "id": "vLelbxs-gi9D"
      },
      "execution_count": null,
      "outputs": []
    },
    {
      "cell_type": "code",
      "source": [
        "print(tf.random.uniform([1]))\n",
        "print(tf.random.uniform([1]))\n",
        "print(tf.random.uniform([1]))\n",
        "print(tf.random.uniform([1]))"
      ],
      "metadata": {
        "colab": {
          "base_uri": "https://localhost:8080/"
        },
        "id": "VmcfXZ3Xi5i5",
        "outputId": "f2e58224-b135-417f-c4a3-9437a9145ec6"
      },
      "execution_count": null,
      "outputs": [
        {
          "output_type": "stream",
          "name": "stdout",
          "text": [
            "tf.Tensor([0.76732683], shape=(1,), dtype=float32)\n",
            "tf.Tensor([0.11529493], shape=(1,), dtype=float32)\n",
            "tf.Tensor([0.10706615], shape=(1,), dtype=float32)\n",
            "tf.Tensor([0.9289516], shape=(1,), dtype=float32)\n"
          ]
        }
      ]
    },
    {
      "cell_type": "code",
      "source": [
        "# tf.random.set_seed(123)\n",
        "print(tf.random.uniform([1]))\n",
        "print(tf.random.uniform([1]))"
      ],
      "metadata": {
        "colab": {
          "base_uri": "https://localhost:8080/"
        },
        "id": "2YnQ9_of9364",
        "outputId": "ce0a266e-b241-4d83-c407-cff2cc2ac85e"
      },
      "execution_count": null,
      "outputs": [
        {
          "output_type": "stream",
          "name": "stdout",
          "text": [
            "tf.Tensor([0.4720682], shape=(1,), dtype=float32)\n",
            "tf.Tensor([0.16123068], shape=(1,), dtype=float32)\n"
          ]
        }
      ]
    },
    {
      "cell_type": "code",
      "source": [
        "# tf.random.set_seed(12)\n",
        "print(tf.random.uniform([1],seed=1))\n",
        "print(tf.random.uniform([1],seed=1))\n",
        "\n"
      ],
      "metadata": {
        "colab": {
          "base_uri": "https://localhost:8080/"
        },
        "id": "G4wSB0MQGong",
        "outputId": "05735ba1-f3c0-4613-ec3b-e685cd3336bf"
      },
      "execution_count": null,
      "outputs": [
        {
          "output_type": "stream",
          "name": "stdout",
          "text": [
            "tf.Tensor([0.53493106], shape=(1,), dtype=float32)\n",
            "tf.Tensor([0.8564223], shape=(1,), dtype=float32)\n"
          ]
        }
      ]
    },
    {
      "cell_type": "markdown",
      "source": [
        "___________________________________________________________________________________________________________________________________________-"
      ],
      "metadata": {
        "id": "a_JgRd-5H3i-"
      }
    },
    {
      "cell_type": "code",
      "source": [
        "rank_4_tensor"
      ],
      "metadata": {
        "colab": {
          "base_uri": "https://localhost:8080/"
        },
        "id": "k7a0OkyLG0y3",
        "outputId": "5d79be98-b54f-4faa-e6f2-bb509eb76fa2"
      },
      "execution_count": null,
      "outputs": [
        {
          "output_type": "execute_result",
          "data": {
            "text/plain": [
              "<tf.Tensor: shape=(2, 3, 4, 5), dtype=float32, numpy=\n",
              "array([[[[0., 0., 0., 0., 0.],\n",
              "         [0., 0., 0., 0., 0.],\n",
              "         [0., 0., 0., 0., 0.],\n",
              "         [0., 0., 0., 0., 0.]],\n",
              "\n",
              "        [[0., 0., 0., 0., 0.],\n",
              "         [0., 0., 0., 0., 0.],\n",
              "         [0., 0., 0., 0., 0.],\n",
              "         [0., 0., 0., 0., 0.]],\n",
              "\n",
              "        [[0., 0., 0., 0., 0.],\n",
              "         [0., 0., 0., 0., 0.],\n",
              "         [0., 0., 0., 0., 0.],\n",
              "         [0., 0., 0., 0., 0.]]],\n",
              "\n",
              "\n",
              "       [[[0., 0., 0., 0., 0.],\n",
              "         [0., 0., 0., 0., 0.],\n",
              "         [0., 0., 0., 0., 0.],\n",
              "         [0., 0., 0., 0., 0.]],\n",
              "\n",
              "        [[0., 0., 0., 0., 0.],\n",
              "         [0., 0., 0., 0., 0.],\n",
              "         [0., 0., 0., 0., 0.],\n",
              "         [0., 0., 0., 0., 0.]],\n",
              "\n",
              "        [[0., 0., 0., 0., 0.],\n",
              "         [0., 0., 0., 0., 0.],\n",
              "         [0., 0., 0., 0., 0.],\n",
              "         [0., 0., 0., 0., 0.]]]], dtype=float32)>"
            ]
          },
          "metadata": {},
          "execution_count": 35
        }
      ]
    },
    {
      "cell_type": "code",
      "source": [
        "rank_4_tensor[:1,:1,2:3,:]"
      ],
      "metadata": {
        "colab": {
          "base_uri": "https://localhost:8080/"
        },
        "id": "prabAsdBJKty",
        "outputId": "f517166d-3acc-4fe9-8744-167a79628ebe"
      },
      "execution_count": null,
      "outputs": [
        {
          "output_type": "execute_result",
          "data": {
            "text/plain": [
              "<tf.Tensor: shape=(1, 1, 1, 5), dtype=float32, numpy=array([[[[0., 0., 0., 0., 0.]]]], dtype=float32)>"
            ]
          },
          "metadata": {},
          "execution_count": 36
        }
      ]
    },
    {
      "cell_type": "code",
      "source": [
        "rank_4_tensor[:1,:1,:3,:3]"
      ],
      "metadata": {
        "colab": {
          "base_uri": "https://localhost:8080/"
        },
        "id": "GBdoMrsQIvGJ",
        "outputId": "6390350f-5929-4433-f54d-0f649d747882"
      },
      "execution_count": null,
      "outputs": [
        {
          "output_type": "execute_result",
          "data": {
            "text/plain": [
              "<tf.Tensor: shape=(1, 1, 3, 3), dtype=float32, numpy=\n",
              "array([[[[0., 0., 0.],\n",
              "         [0., 0., 0.],\n",
              "         [0., 0., 0.]]]], dtype=float32)>"
            ]
          },
          "metadata": {},
          "execution_count": 37
        }
      ]
    },
    {
      "cell_type": "code",
      "source": [
        "rank_4_tensor[:2,:2,:2,:2]"
      ],
      "metadata": {
        "colab": {
          "base_uri": "https://localhost:8080/"
        },
        "id": "l7Bg_Mp2H6v7",
        "outputId": "e31156fc-0905-42af-d9c0-af046d042eb4"
      },
      "execution_count": null,
      "outputs": [
        {
          "output_type": "execute_result",
          "data": {
            "text/plain": [
              "<tf.Tensor: shape=(2, 2, 2, 2), dtype=float32, numpy=\n",
              "array([[[[0., 0.],\n",
              "         [0., 0.]],\n",
              "\n",
              "        [[0., 0.],\n",
              "         [0., 0.]]],\n",
              "\n",
              "\n",
              "       [[[0., 0.],\n",
              "         [0., 0.]],\n",
              "\n",
              "        [[0., 0.],\n",
              "         [0., 0.]]]], dtype=float32)>"
            ]
          },
          "metadata": {},
          "execution_count": 38
        }
      ]
    },
    {
      "cell_type": "code",
      "source": [
        "rank_4_tensor[:1,:1,:1,:1]"
      ],
      "metadata": {
        "colab": {
          "base_uri": "https://localhost:8080/"
        },
        "id": "Iy4MYhVrIFhe",
        "outputId": "46ec3e20-e30b-4030-cba0-e2d09a6694ec"
      },
      "execution_count": null,
      "outputs": [
        {
          "output_type": "execute_result",
          "data": {
            "text/plain": [
              "<tf.Tensor: shape=(1, 1, 1, 1), dtype=float32, numpy=array([[[[0.]]]], dtype=float32)>"
            ]
          },
          "metadata": {},
          "execution_count": 39
        }
      ]
    },
    {
      "cell_type": "code",
      "source": [
        "rank_2_tensor= tf.constant([[1,2],[3,4]])\n",
        "rank_2_tensor"
      ],
      "metadata": {
        "colab": {
          "base_uri": "https://localhost:8080/"
        },
        "id": "VJGPzxbHIftb",
        "outputId": "f70e24e6-7b9a-45fd-9cfd-3690f6ec09c0"
      },
      "execution_count": null,
      "outputs": [
        {
          "output_type": "execute_result",
          "data": {
            "text/plain": [
              "<tf.Tensor: shape=(2, 2), dtype=int32, numpy=\n",
              "array([[1, 2],\n",
              "       [3, 4]], dtype=int32)>"
            ]
          },
          "metadata": {},
          "execution_count": 40
        }
      ]
    },
    {
      "cell_type": "code",
      "source": [
        "rank_2_tensor[-1,0:1]"
      ],
      "metadata": {
        "colab": {
          "base_uri": "https://localhost:8080/"
        },
        "id": "UdwgW1EhJj5o",
        "outputId": "0bd80023-95dc-4bb2-d6a8-b1962171530f"
      },
      "execution_count": null,
      "outputs": [
        {
          "output_type": "execute_result",
          "data": {
            "text/plain": [
              "<tf.Tensor: shape=(1,), dtype=int32, numpy=array([3], dtype=int32)>"
            ]
          },
          "metadata": {},
          "execution_count": 41
        }
      ]
    },
    {
      "cell_type": "code",
      "source": [
        "rank_2_tensor= tf.constant([[1,2],[3,4]])\n",
        "rank_2_tensor\n",
        "rank_3_tensor= rank_2_tensor[tf.newaxis,:]\n",
        "rank_3_tensor"
      ],
      "metadata": {
        "colab": {
          "base_uri": "https://localhost:8080/"
        },
        "id": "4Bnq-RKBJuOp",
        "outputId": "82376e73-8d0e-4e1c-f655-3ba30cd492d8"
      },
      "execution_count": null,
      "outputs": [
        {
          "output_type": "execute_result",
          "data": {
            "text/plain": [
              "<tf.Tensor: shape=(1, 2, 2), dtype=int32, numpy=\n",
              "array([[[1, 2],\n",
              "        [3, 4]]], dtype=int32)>"
            ]
          },
          "metadata": {},
          "execution_count": 42
        }
      ]
    },
    {
      "cell_type": "code",
      "source": [
        "tf.expand_dims(rank_2_tensor, axis=0)"
      ],
      "metadata": {
        "colab": {
          "base_uri": "https://localhost:8080/"
        },
        "id": "SEWI31qwKKkR",
        "outputId": "34816f4d-fa84-45e2-978d-38b34799a913"
      },
      "execution_count": null,
      "outputs": [
        {
          "output_type": "execute_result",
          "data": {
            "text/plain": [
              "<tf.Tensor: shape=(1, 2, 2), dtype=int32, numpy=\n",
              "array([[[1, 2],\n",
              "        [3, 4]]], dtype=int32)>"
            ]
          },
          "metadata": {},
          "execution_count": 43
        }
      ]
    },
    {
      "cell_type": "code",
      "source": [
        "tf.expand_dims(rank_2_tensor, axis=1)"
      ],
      "metadata": {
        "colab": {
          "base_uri": "https://localhost:8080/"
        },
        "id": "Beg0xfWrM8A3",
        "outputId": "66531b48-a514-47da-f99a-e94b93f6e629"
      },
      "execution_count": null,
      "outputs": [
        {
          "output_type": "execute_result",
          "data": {
            "text/plain": [
              "<tf.Tensor: shape=(2, 1, 2), dtype=int32, numpy=\n",
              "array([[[1, 2]],\n",
              "\n",
              "       [[3, 4]]], dtype=int32)>"
            ]
          },
          "metadata": {},
          "execution_count": 44
        }
      ]
    },
    {
      "cell_type": "code",
      "source": [
        "tf.expand_dims(rank_2_tensor, axis=2)"
      ],
      "metadata": {
        "colab": {
          "base_uri": "https://localhost:8080/"
        },
        "id": "2k46XI7ONAnB",
        "outputId": "681c735d-9982-4c77-e232-a18a420a468e"
      },
      "execution_count": null,
      "outputs": [
        {
          "output_type": "execute_result",
          "data": {
            "text/plain": [
              "<tf.Tensor: shape=(2, 2, 1), dtype=int32, numpy=\n",
              "array([[[1],\n",
              "        [2]],\n",
              "\n",
              "       [[3],\n",
              "        [4]]], dtype=int32)>"
            ]
          },
          "metadata": {},
          "execution_count": 45
        }
      ]
    },
    {
      "cell_type": "code",
      "source": [
        "tf.expand_dims(rank_2_tensor, axis=-1)"
      ],
      "metadata": {
        "colab": {
          "base_uri": "https://localhost:8080/"
        },
        "id": "O5npJgT4NIeL",
        "outputId": "e73cd568-0ba4-4b8c-8b4d-6c0bdd387328"
      },
      "execution_count": null,
      "outputs": [
        {
          "output_type": "execute_result",
          "data": {
            "text/plain": [
              "<tf.Tensor: shape=(2, 2, 1), dtype=int32, numpy=\n",
              "array([[[1],\n",
              "        [2]],\n",
              "\n",
              "       [[3],\n",
              "        [4]]], dtype=int32)>"
            ]
          },
          "metadata": {},
          "execution_count": 46
        }
      ]
    },
    {
      "cell_type": "markdown",
      "source": [
        "# Manipulating Tensors->"
      ],
      "metadata": {
        "id": "6738_cyYOGnQ"
      }
    },
    {
      "cell_type": "code",
      "source": [
        "tensor= tf.constant([[0,2],[3,4]])\n"
      ],
      "metadata": {
        "id": "AW7AW_MGNJzB"
      },
      "execution_count": null,
      "outputs": []
    },
    {
      "cell_type": "code",
      "source": [
        "tensor + 10"
      ],
      "metadata": {
        "colab": {
          "base_uri": "https://localhost:8080/"
        },
        "id": "skEhToQbOVtO",
        "outputId": "439d6e2d-87ac-4189-e50a-e9e39dfdb0ae"
      },
      "execution_count": null,
      "outputs": [
        {
          "output_type": "execute_result",
          "data": {
            "text/plain": [
              "<tf.Tensor: shape=(2, 2), dtype=int32, numpy=\n",
              "array([[10, 12],\n",
              "       [13, 14]], dtype=int32)>"
            ]
          },
          "metadata": {},
          "execution_count": 48
        }
      ]
    },
    {
      "cell_type": "code",
      "source": [
        "tensor - 10"
      ],
      "metadata": {
        "colab": {
          "base_uri": "https://localhost:8080/"
        },
        "id": "-JjliE1iOWoV",
        "outputId": "93be5aa6-52b5-4659-b1f9-b38d1279a917"
      },
      "execution_count": null,
      "outputs": [
        {
          "output_type": "execute_result",
          "data": {
            "text/plain": [
              "<tf.Tensor: shape=(2, 2), dtype=int32, numpy=\n",
              "array([[-10,  -8],\n",
              "       [ -7,  -6]], dtype=int32)>"
            ]
          },
          "metadata": {},
          "execution_count": 49
        }
      ]
    },
    {
      "cell_type": "code",
      "source": [
        "tensor *  10"
      ],
      "metadata": {
        "colab": {
          "base_uri": "https://localhost:8080/"
        },
        "id": "PEkB7_qvOdyn",
        "outputId": "4dedb22d-003d-4473-a8f7-3733f50ecc70"
      },
      "execution_count": null,
      "outputs": [
        {
          "output_type": "execute_result",
          "data": {
            "text/plain": [
              "<tf.Tensor: shape=(2, 2), dtype=int32, numpy=\n",
              "array([[ 0, 20],\n",
              "       [30, 40]], dtype=int32)>"
            ]
          },
          "metadata": {},
          "execution_count": 50
        }
      ]
    },
    {
      "cell_type": "code",
      "source": [
        "tensor **  10"
      ],
      "metadata": {
        "colab": {
          "base_uri": "https://localhost:8080/"
        },
        "id": "lgGlYWaROgcu",
        "outputId": "4b8b30a4-4bf9-4b6e-9001-d861ac1c8ca3"
      },
      "execution_count": null,
      "outputs": [
        {
          "output_type": "execute_result",
          "data": {
            "text/plain": [
              "<tf.Tensor: shape=(2, 2), dtype=int32, numpy=\n",
              "array([[      0,    1024],\n",
              "       [  59049, 1048576]], dtype=int32)>"
            ]
          },
          "metadata": {},
          "execution_count": 51
        }
      ]
    },
    {
      "cell_type": "code",
      "source": [
        "tensor /  0"
      ],
      "metadata": {
        "colab": {
          "base_uri": "https://localhost:8080/"
        },
        "id": "OGDvJQ6fPKzs",
        "outputId": "2fbf618b-a957-4f00-a9d7-60aadc311833"
      },
      "execution_count": null,
      "outputs": [
        {
          "output_type": "execute_result",
          "data": {
            "text/plain": [
              "<tf.Tensor: shape=(2, 2), dtype=float64, numpy=\n",
              "array([[nan, inf],\n",
              "       [inf, inf]])>"
            ]
          },
          "metadata": {},
          "execution_count": 52
        }
      ]
    },
    {
      "cell_type": "code",
      "source": [
        "tf.multiply(tensor, 10)"
      ],
      "metadata": {
        "colab": {
          "base_uri": "https://localhost:8080/"
        },
        "id": "FKQ6G_eJOivq",
        "outputId": "fdb0f08f-0f64-453a-ec53-32de8cfda9dd"
      },
      "execution_count": null,
      "outputs": [
        {
          "output_type": "execute_result",
          "data": {
            "text/plain": [
              "<tf.Tensor: shape=(2, 2), dtype=int32, numpy=\n",
              "array([[ 0, 20],\n",
              "       [30, 40]], dtype=int32)>"
            ]
          },
          "metadata": {},
          "execution_count": 53
        }
      ]
    },
    {
      "cell_type": "code",
      "source": [
        "tf.add(tensor, 10)\n"
      ],
      "metadata": {
        "colab": {
          "base_uri": "https://localhost:8080/"
        },
        "id": "k--ZSj4-O2vo",
        "outputId": "114cb258-3ef6-4506-d1bb-5a2e9dd7f2e7"
      },
      "execution_count": null,
      "outputs": [
        {
          "output_type": "execute_result",
          "data": {
            "text/plain": [
              "<tf.Tensor: shape=(2, 2), dtype=int32, numpy=\n",
              "array([[10, 12],\n",
              "       [13, 14]], dtype=int32)>"
            ]
          },
          "metadata": {},
          "execution_count": 54
        }
      ]
    },
    {
      "cell_type": "code",
      "source": [
        "tf.subtract(tensor, 10)\n"
      ],
      "metadata": {
        "colab": {
          "base_uri": "https://localhost:8080/"
        },
        "id": "scw0EATGO6Kf",
        "outputId": "63e8607a-6025-4685-daf8-b29ee73e3f8f"
      },
      "execution_count": null,
      "outputs": [
        {
          "output_type": "execute_result",
          "data": {
            "text/plain": [
              "<tf.Tensor: shape=(2, 2), dtype=int32, numpy=\n",
              "array([[-10,  -8],\n",
              "       [ -7,  -6]], dtype=int32)>"
            ]
          },
          "metadata": {},
          "execution_count": 55
        }
      ]
    },
    {
      "cell_type": "code",
      "source": [
        "tf.divide(tensor, 10)\n"
      ],
      "metadata": {
        "colab": {
          "base_uri": "https://localhost:8080/"
        },
        "id": "fK-ONyNiO7-s",
        "outputId": "4d63e69c-886c-403f-f183-0cbfa88073b4"
      },
      "execution_count": null,
      "outputs": [
        {
          "output_type": "execute_result",
          "data": {
            "text/plain": [
              "<tf.Tensor: shape=(2, 2), dtype=float64, numpy=\n",
              "array([[0. , 0.2],\n",
              "       [0.3, 0.4]])>"
            ]
          },
          "metadata": {},
          "execution_count": 56
        }
      ]
    },
    {
      "cell_type": "markdown",
      "source": [
        "## Matrix Multilplication->"
      ],
      "metadata": {
        "id": "w3GDsTgmQM9r"
      }
    },
    {
      "cell_type": "code",
      "source": [
        "tf.matmul(tensor, tensor)"
      ],
      "metadata": {
        "colab": {
          "base_uri": "https://localhost:8080/"
        },
        "id": "i_9thHqlPGev",
        "outputId": "70960edd-1ec8-4e41-ba68-7d19f4df9f5b"
      },
      "execution_count": null,
      "outputs": [
        {
          "output_type": "execute_result",
          "data": {
            "text/plain": [
              "<tf.Tensor: shape=(2, 2), dtype=int32, numpy=\n",
              "array([[ 6,  8],\n",
              "       [12, 22]], dtype=int32)>"
            ]
          },
          "metadata": {},
          "execution_count": 57
        }
      ]
    },
    {
      "cell_type": "code",
      "source": [
        "print(tensor)\n",
        "tensor * tensor"
      ],
      "metadata": {
        "colab": {
          "base_uri": "https://localhost:8080/"
        },
        "id": "1HpkqwDzQalV",
        "outputId": "e7a773f5-e967-473b-9471-f7a43b293e12"
      },
      "execution_count": null,
      "outputs": [
        {
          "output_type": "stream",
          "name": "stdout",
          "text": [
            "tf.Tensor(\n",
            "[[0 2]\n",
            " [3 4]], shape=(2, 2), dtype=int32)\n"
          ]
        },
        {
          "output_type": "execute_result",
          "data": {
            "text/plain": [
              "<tf.Tensor: shape=(2, 2), dtype=int32, numpy=\n",
              "array([[ 0,  4],\n",
              "       [ 9, 16]], dtype=int32)>"
            ]
          },
          "metadata": {},
          "execution_count": 58
        }
      ]
    },
    {
      "cell_type": "code",
      "source": [
        "tensor @ tensor"
      ],
      "metadata": {
        "colab": {
          "base_uri": "https://localhost:8080/"
        },
        "id": "c1ZJOWjvQf7-",
        "outputId": "c960691b-9099-4a67-ec01-e104d62d9e39"
      },
      "execution_count": null,
      "outputs": [
        {
          "output_type": "execute_result",
          "data": {
            "text/plain": [
              "<tf.Tensor: shape=(2, 2), dtype=int32, numpy=\n",
              "array([[ 6,  8],\n",
              "       [12, 22]], dtype=int32)>"
            ]
          },
          "metadata": {},
          "execution_count": 59
        }
      ]
    },
    {
      "cell_type": "code",
      "source": [
        "x= tf"
      ],
      "metadata": {
        "id": "280vvqoGQkJS"
      },
      "execution_count": null,
      "outputs": []
    },
    {
      "cell_type": "code",
      "source": [
        "x= tf.constant([[1,2],[2,3],[3,4]])\n",
        "y= tf.constant([[4,5],[5,6],[6,7]])\n",
        "x , y"
      ],
      "metadata": {
        "colab": {
          "base_uri": "https://localhost:8080/"
        },
        "id": "QwmerQf9HvBU",
        "outputId": "8c96228f-954d-4a63-b021-c293220eb13e"
      },
      "execution_count": null,
      "outputs": [
        {
          "output_type": "execute_result",
          "data": {
            "text/plain": [
              "(<tf.Tensor: shape=(3, 2), dtype=int32, numpy=\n",
              " array([[1, 2],\n",
              "        [2, 3],\n",
              "        [3, 4]], dtype=int32)>,\n",
              " <tf.Tensor: shape=(3, 2), dtype=int32, numpy=\n",
              " array([[4, 5],\n",
              "        [5, 6],\n",
              "        [6, 7]], dtype=int32)>)"
            ]
          },
          "metadata": {},
          "execution_count": 61
        }
      ]
    },
    {
      "cell_type": "code",
      "source": [
        "# (3,2) * (3,2)\n",
        "\n",
        "tf.matmul(tf.transpose(x) , y)\n"
      ],
      "metadata": {
        "colab": {
          "base_uri": "https://localhost:8080/"
        },
        "id": "8x0Wgk3-IACB",
        "outputId": "88df9cda-168f-40ab-e9c6-7a7580274efe"
      },
      "execution_count": null,
      "outputs": [
        {
          "output_type": "execute_result",
          "data": {
            "text/plain": [
              "<tf.Tensor: shape=(2, 2), dtype=int32, numpy=\n",
              "array([[32, 38],\n",
              "       [47, 56]], dtype=int32)>"
            ]
          },
          "metadata": {},
          "execution_count": 62
        }
      ]
    },
    {
      "cell_type": "code",
      "source": [
        "tf.matmul(x, y , transpose_a= True, transpose_b= False)"
      ],
      "metadata": {
        "colab": {
          "base_uri": "https://localhost:8080/"
        },
        "id": "LMNjxavdIC2j",
        "outputId": "5a069d98-a956-4587-c088-df8edc03b3af"
      },
      "execution_count": null,
      "outputs": [
        {
          "output_type": "execute_result",
          "data": {
            "text/plain": [
              "<tf.Tensor: shape=(2, 2), dtype=int32, numpy=\n",
              "array([[32, 38],\n",
              "       [47, 56]], dtype=int32)>"
            ]
          },
          "metadata": {},
          "execution_count": 63
        }
      ]
    },
    {
      "cell_type": "code",
      "source": [
        "tf.matmul(x, y , transpose_a = False, transpose_b= True)"
      ],
      "metadata": {
        "colab": {
          "base_uri": "https://localhost:8080/"
        },
        "id": "K3P7xmcKI1Rg",
        "outputId": "f9eeee1a-4994-42dc-d933-fc84cb5490aa"
      },
      "execution_count": null,
      "outputs": [
        {
          "output_type": "execute_result",
          "data": {
            "text/plain": [
              "<tf.Tensor: shape=(3, 3), dtype=int32, numpy=\n",
              "array([[14, 17, 20],\n",
              "       [23, 28, 33],\n",
              "       [32, 39, 46]], dtype=int32)>"
            ]
          },
          "metadata": {},
          "execution_count": 64
        }
      ]
    },
    {
      "cell_type": "markdown",
      "source": [
        "### reshape ->"
      ],
      "metadata": {
        "id": "RdjZJH-VJV-g"
      }
    },
    {
      "cell_type": "code",
      "source": [
        "tf.reshape(y, shape=(2,3))"
      ],
      "metadata": {
        "colab": {
          "base_uri": "https://localhost:8080/"
        },
        "id": "c4teFKBAJCvI",
        "outputId": "94eadf89-50e8-45ca-b127-5fe7fe3187b2"
      },
      "execution_count": null,
      "outputs": [
        {
          "output_type": "execute_result",
          "data": {
            "text/plain": [
              "<tf.Tensor: shape=(2, 3), dtype=int32, numpy=\n",
              "array([[4, 5, 5],\n",
              "       [6, 6, 7]], dtype=int32)>"
            ]
          },
          "metadata": {},
          "execution_count": 65
        }
      ]
    },
    {
      "cell_type": "code",
      "source": [
        "print(x @ tf.reshape(y, shape=(2,3)).numpy())\n",
        "print(x @ tf.transpose(y))"
      ],
      "metadata": {
        "colab": {
          "base_uri": "https://localhost:8080/"
        },
        "id": "qixzK8IXJgBh",
        "outputId": "b5688a32-c428-403f-a65f-88162ad161a1"
      },
      "execution_count": null,
      "outputs": [
        {
          "output_type": "stream",
          "name": "stdout",
          "text": [
            "tf.Tensor(\n",
            "[[16 17 19]\n",
            " [26 28 31]\n",
            " [36 39 43]], shape=(3, 3), dtype=int32)\n",
            "tf.Tensor(\n",
            "[[14 17 20]\n",
            " [23 28 33]\n",
            " [32 39 46]], shape=(3, 3), dtype=int32)\n"
          ]
        }
      ]
    },
    {
      "cell_type": "code",
      "source": [
        "tf.tensordot(tf.transpose())"
      ],
      "metadata": {
        "id": "RP6OQaMtJ1Dk",
        "colab": {
          "base_uri": "https://localhost:8080/",
          "height": 399
        },
        "outputId": "ed3d6907-be91-4a3c-aaaf-663eee5d399c"
      },
      "execution_count": null,
      "outputs": [
        {
          "output_type": "error",
          "ename": "TypeError",
          "evalue": "ignored",
          "traceback": [
            "\u001b[0;31m---------------------------------------------------------------------------\u001b[0m",
            "\u001b[0;31mTypeError\u001b[0m                                 Traceback (most recent call last)",
            "\u001b[0;32m<ipython-input-67-6c5603ac9768>\u001b[0m in \u001b[0;36m<cell line: 1>\u001b[0;34m()\u001b[0m\n\u001b[0;32m----> 1\u001b[0;31m \u001b[0mtf\u001b[0m\u001b[0;34m.\u001b[0m\u001b[0mtensordot\u001b[0m\u001b[0;34m(\u001b[0m\u001b[0mtf\u001b[0m\u001b[0;34m.\u001b[0m\u001b[0mtranspose\u001b[0m\u001b[0;34m(\u001b[0m\u001b[0;34m)\u001b[0m\u001b[0;34m)\u001b[0m\u001b[0;34m\u001b[0m\u001b[0;34m\u001b[0m\u001b[0m\n\u001b[0m",
            "\u001b[0;32m/usr/local/lib/python3.10/dist-packages/tensorflow/python/util/traceback_utils.py\u001b[0m in \u001b[0;36merror_handler\u001b[0;34m(*args, **kwargs)\u001b[0m\n\u001b[1;32m    151\u001b[0m     \u001b[0;32mexcept\u001b[0m \u001b[0mException\u001b[0m \u001b[0;32mas\u001b[0m \u001b[0me\u001b[0m\u001b[0;34m:\u001b[0m\u001b[0;34m\u001b[0m\u001b[0;34m\u001b[0m\u001b[0m\n\u001b[1;32m    152\u001b[0m       \u001b[0mfiltered_tb\u001b[0m \u001b[0;34m=\u001b[0m \u001b[0m_process_traceback_frames\u001b[0m\u001b[0;34m(\u001b[0m\u001b[0me\u001b[0m\u001b[0;34m.\u001b[0m\u001b[0m__traceback__\u001b[0m\u001b[0;34m)\u001b[0m\u001b[0;34m\u001b[0m\u001b[0;34m\u001b[0m\u001b[0m\n\u001b[0;32m--> 153\u001b[0;31m       \u001b[0;32mraise\u001b[0m \u001b[0me\u001b[0m\u001b[0;34m.\u001b[0m\u001b[0mwith_traceback\u001b[0m\u001b[0;34m(\u001b[0m\u001b[0mfiltered_tb\u001b[0m\u001b[0;34m)\u001b[0m \u001b[0;32mfrom\u001b[0m \u001b[0;32mNone\u001b[0m\u001b[0;34m\u001b[0m\u001b[0;34m\u001b[0m\u001b[0m\n\u001b[0m\u001b[1;32m    154\u001b[0m     \u001b[0;32mfinally\u001b[0m\u001b[0;34m:\u001b[0m\u001b[0;34m\u001b[0m\u001b[0;34m\u001b[0m\u001b[0m\n\u001b[1;32m    155\u001b[0m       \u001b[0;32mdel\u001b[0m \u001b[0mfiltered_tb\u001b[0m\u001b[0;34m\u001b[0m\u001b[0;34m\u001b[0m\u001b[0m\n",
            "\u001b[0;32m/usr/local/lib/python3.10/dist-packages/tensorflow/python/util/dispatch.py\u001b[0m in \u001b[0;36mop_dispatch_handler\u001b[0;34m(*args, **kwargs)\u001b[0m\n\u001b[1;32m   1168\u001b[0m         \u001b[0;32mif\u001b[0m \u001b[0miterable_params\u001b[0m \u001b[0;32mis\u001b[0m \u001b[0;32mnot\u001b[0m \u001b[0;32mNone\u001b[0m\u001b[0;34m:\u001b[0m\u001b[0;34m\u001b[0m\u001b[0;34m\u001b[0m\u001b[0m\n\u001b[1;32m   1169\u001b[0m           \u001b[0margs\u001b[0m\u001b[0;34m,\u001b[0m \u001b[0mkwargs\u001b[0m \u001b[0;34m=\u001b[0m \u001b[0mreplace_iterable_params\u001b[0m\u001b[0;34m(\u001b[0m\u001b[0margs\u001b[0m\u001b[0;34m,\u001b[0m \u001b[0mkwargs\u001b[0m\u001b[0;34m,\u001b[0m \u001b[0miterable_params\u001b[0m\u001b[0;34m)\u001b[0m\u001b[0;34m\u001b[0m\u001b[0;34m\u001b[0m\u001b[0m\n\u001b[0;32m-> 1170\u001b[0;31m         \u001b[0mresult\u001b[0m \u001b[0;34m=\u001b[0m \u001b[0mapi_dispatcher\u001b[0m\u001b[0;34m.\u001b[0m\u001b[0mDispatch\u001b[0m\u001b[0;34m(\u001b[0m\u001b[0margs\u001b[0m\u001b[0;34m,\u001b[0m \u001b[0mkwargs\u001b[0m\u001b[0;34m)\u001b[0m\u001b[0;34m\u001b[0m\u001b[0;34m\u001b[0m\u001b[0m\n\u001b[0m\u001b[1;32m   1171\u001b[0m         \u001b[0;32mif\u001b[0m \u001b[0mresult\u001b[0m \u001b[0;32mis\u001b[0m \u001b[0;32mnot\u001b[0m \u001b[0mNotImplemented\u001b[0m\u001b[0;34m:\u001b[0m\u001b[0;34m\u001b[0m\u001b[0;34m\u001b[0m\u001b[0m\n\u001b[1;32m   1172\u001b[0m           \u001b[0;32mreturn\u001b[0m \u001b[0mresult\u001b[0m\u001b[0;34m\u001b[0m\u001b[0;34m\u001b[0m\u001b[0m\n",
            "\u001b[0;31mTypeError\u001b[0m: Missing required positional argument"
          ]
        }
      ]
    },
    {
      "cell_type": "code",
      "source": [
        "tf.__version__"
      ],
      "metadata": {
        "id": "seA4n-PvMZW2"
      },
      "execution_count": null,
      "outputs": []
    },
    {
      "cell_type": "code",
      "source": [
        "x= tf.constant([[1.,2.,3.],[4.,5.,6.]])\n",
        "print(x)\n",
        "print(x.shape)\n",
        "print(x.dtype)"
      ],
      "metadata": {
        "id": "V8ra04sbMoOj"
      },
      "execution_count": null,
      "outputs": []
    },
    {
      "cell_type": "code",
      "source": [
        "x+ x\n"
      ],
      "metadata": {
        "id": "OLGyRTQ_VrU3"
      },
      "execution_count": null,
      "outputs": []
    },
    {
      "cell_type": "code",
      "source": [
        " x @ tf.transpose(x)"
      ],
      "metadata": {
        "id": "wCPPHzpqXNGg"
      },
      "execution_count": null,
      "outputs": []
    },
    {
      "cell_type": "code",
      "source": [
        "y= tf.constant([[1,1,1],[1,1,1]])\n",
        "y"
      ],
      "metadata": {
        "id": "0GwoU1NxXtdl"
      },
      "execution_count": null,
      "outputs": []
    },
    {
      "cell_type": "code",
      "source": [
        "tf.reduce_sum(x)"
      ],
      "metadata": {
        "id": "kRcjEAbEaJGa"
      },
      "execution_count": null,
      "outputs": []
    },
    {
      "cell_type": "code",
      "source": [
        "tf.reduce_sum(x,1).numpy()"
      ],
      "metadata": {
        "id": "mUmvP2nxaLy4"
      },
      "execution_count": null,
      "outputs": []
    },
    {
      "cell_type": "code",
      "source": [
        "tf.reduce_sum(x, keepdims=True)"
      ],
      "metadata": {
        "id": "Xms0cQ9cab5S"
      },
      "execution_count": null,
      "outputs": []
    },
    {
      "cell_type": "code",
      "source": [
        "tf.convert_to_tensor([[[1,2],[3,3]],[[4,5],[6,7]]])"
      ],
      "metadata": {
        "id": "rJtvMmanbNbY"
      },
      "execution_count": null,
      "outputs": []
    },
    {
      "cell_type": "code",
      "source": [
        "var= tf.Variable([1,2,3,3])\n",
        "var"
      ],
      "metadata": {
        "id": "uAz0i906crkg"
      },
      "execution_count": null,
      "outputs": []
    },
    {
      "cell_type": "code",
      "source": [
        "var[3].assign(0)"
      ],
      "metadata": {
        "id": "gETgqkQmdK9K"
      },
      "execution_count": null,
      "outputs": []
    },
    {
      "cell_type": "code",
      "source": [
        "var.assign_add([1,1,1,1])"
      ],
      "metadata": {
        "id": "i1T71CCmdQbw"
      },
      "execution_count": null,
      "outputs": []
    },
    {
      "cell_type": "markdown",
      "source": [
        "# Doubt->"
      ],
      "metadata": {
        "id": "IlY7Urd-epfR"
      }
    },
    {
      "cell_type": "code",
      "source": [
        "var[3].assign_add([3])"
      ],
      "metadata": {
        "id": "I0EgifYmdtL_"
      },
      "execution_count": null,
      "outputs": []
    },
    {
      "cell_type": "markdown",
      "source": [
        "________________________________________________________________________________"
      ],
      "metadata": {
        "id": "0QgpzC5besTU"
      }
    },
    {
      "cell_type": "code",
      "source": [
        "# scalar\n",
        "scalar=tf.constant(6)\n",
        "vector= tf.constant([1,2,3,3])\n",
        "matrix= tf.constant([[1,2,3,4,5,6,7,8],[1,2,3,4,5,6,7,8]])\n",
        "# tensor #-> shape(2,4,2,2,1)\n",
        "tensor= tf.constant([[[[[1],[2]],[[3],[4]]],[[[5],[6]],[[7],[8]]],[[[9],[10]],[[11],[12]]],[[[13],[14]],[[15],[16]]]],[[[[17],[18]],[[19],[20]]],[[[21],[22]],[[23],[24]]],[[[25],[26]],[[27],[28]]],[[[29],[30]],[[31],[32]]]]])"
      ],
      "metadata": {
        "id": "b28p2xCheXZX"
      },
      "execution_count": null,
      "outputs": []
    },
    {
      "cell_type": "code",
      "source": [
        "tensor.reduce_prod(tensor.shape)"
      ],
      "metadata": {
        "colab": {
          "base_uri": "https://localhost:8080/",
          "height": 375
        },
        "id": "duDyi1Dh-85v",
        "outputId": "365b5ef3-29ce-4f10-e8b9-63b82cee6ebe"
      },
      "execution_count": null,
      "outputs": [
        {
          "output_type": "error",
          "ename": "AttributeError",
          "evalue": "ignored",
          "traceback": [
            "\u001b[0;31m---------------------------------------------------------------------------\u001b[0m",
            "\u001b[0;31mAttributeError\u001b[0m                            Traceback (most recent call last)",
            "\u001b[0;32m<ipython-input-86-81d7838f2205>\u001b[0m in \u001b[0;36m<cell line: 1>\u001b[0;34m()\u001b[0m\n\u001b[0;32m----> 1\u001b[0;31m \u001b[0mtensor\u001b[0m\u001b[0;34m.\u001b[0m\u001b[0mreduce_prod\u001b[0m\u001b[0;34m(\u001b[0m\u001b[0mtensor\u001b[0m\u001b[0;34m.\u001b[0m\u001b[0mshape\u001b[0m\u001b[0;34m)\u001b[0m\u001b[0;34m\u001b[0m\u001b[0;34m\u001b[0m\u001b[0m\n\u001b[0m",
            "\u001b[0;32m/usr/local/lib/python3.10/dist-packages/tensorflow/python/framework/ops.py\u001b[0m in \u001b[0;36m__getattr__\u001b[0;34m(self, name)\u001b[0m\n\u001b[1;32m    441\u001b[0m         \u001b[0mnp_config\u001b[0m\u001b[0;34m.\u001b[0m\u001b[0menable_numpy_behavior\u001b[0m\u001b[0;34m(\u001b[0m\u001b[0;34m)\u001b[0m\u001b[0;34m\u001b[0m\u001b[0;34m\u001b[0m\u001b[0m\n\u001b[1;32m    442\u001b[0m       \"\"\")\n\u001b[0;32m--> 443\u001b[0;31m     \u001b[0mself\u001b[0m\u001b[0;34m.\u001b[0m\u001b[0m__getattribute__\u001b[0m\u001b[0;34m(\u001b[0m\u001b[0mname\u001b[0m\u001b[0;34m)\u001b[0m\u001b[0;34m\u001b[0m\u001b[0;34m\u001b[0m\u001b[0m\n\u001b[0m\u001b[1;32m    444\u001b[0m \u001b[0;34m\u001b[0m\u001b[0m\n\u001b[1;32m    445\u001b[0m   \u001b[0;34m@\u001b[0m\u001b[0mstaticmethod\u001b[0m\u001b[0;34m\u001b[0m\u001b[0;34m\u001b[0m\u001b[0m\n",
            "\u001b[0;31mAttributeError\u001b[0m: 'tensorflow.python.framework.ops.EagerTensor' object has no attribute 'reduce_prod'"
          ]
        }
      ]
    },
    {
      "cell_type": "code",
      "source": [
        "tf.reduce_prod(tensor)"
      ],
      "metadata": {
        "colab": {
          "base_uri": "https://localhost:8080/"
        },
        "id": "aLO0BckF_7nU",
        "outputId": "2dc5cb50-6237-4ae1-c114-c2de18f0c1a4"
      },
      "execution_count": null,
      "outputs": [
        {
          "output_type": "execute_result",
          "data": {
            "text/plain": [
              "<tf.Tensor: shape=(), dtype=int32, numpy=-2147483648>"
            ]
          },
          "metadata": {},
          "execution_count": 90
        }
      ]
    },
    {
      "cell_type": "code",
      "source": [
        "(tf.reduce_prod(tensor.shape)).numpy()"
      ],
      "metadata": {
        "colab": {
          "base_uri": "https://localhost:8080/"
        },
        "id": "Q9oiK4oLAp-g",
        "outputId": "b4206018-b434-486b-c10e-63eb784529db"
      },
      "execution_count": null,
      "outputs": [
        {
          "output_type": "execute_result",
          "data": {
            "text/plain": [
              "32"
            ]
          },
          "metadata": {},
          "execution_count": 98
        }
      ]
    },
    {
      "cell_type": "code",
      "source": [
        "(tensor.dtype).dtype"
      ],
      "metadata": {
        "colab": {
          "base_uri": "https://localhost:8080/",
          "height": 214
        },
        "id": "3KKHs_V2BOzH",
        "outputId": "813a7aa9-3af5-4e95-f41d-53a7a19c6d54"
      },
      "execution_count": null,
      "outputs": [
        {
          "output_type": "error",
          "ename": "AttributeError",
          "evalue": "ignored",
          "traceback": [
            "\u001b[0;31m---------------------------------------------------------------------------\u001b[0m",
            "\u001b[0;31mAttributeError\u001b[0m                            Traceback (most recent call last)",
            "\u001b[0;32m<ipython-input-115-a72f8b225a3b>\u001b[0m in \u001b[0;36m<cell line: 1>\u001b[0;34m()\u001b[0m\n\u001b[0;32m----> 1\u001b[0;31m \u001b[0;34m(\u001b[0m\u001b[0mtensor\u001b[0m\u001b[0;34m.\u001b[0m\u001b[0mdtype\u001b[0m\u001b[0;34m)\u001b[0m\u001b[0;34m.\u001b[0m\u001b[0mdtype\u001b[0m\u001b[0;34m\u001b[0m\u001b[0;34m\u001b[0m\u001b[0m\n\u001b[0m",
            "\u001b[0;31mAttributeError\u001b[0m: 'DType' object has no attribute 'dtype'"
          ]
        }
      ]
    },
    {
      "cell_type": "code",
      "source": [
        "def info(ten):\n",
        "  print(\"shape of tensor:{} \\n\".format(ten.shape))\n",
        "  print(\"size of tensor:{} \\n\".format((tf.reduce_prod(ten.shape)).numpy()))\n",
        "  print(\"datatype of tensor:{} \\n\".format(ten.dtype))\n",
        "  print(\"no of axis/rank of tensor:{} \\n\".format(ten.ndim))\n",
        "  try :\n",
        "    print(\"no of elements in last axis / dim  of tensor:{} \\n\".format(ten.shape[-1]))\n",
        "  except:\n",
        "    print(\"no of elements in last axis / dim  of tensor:{} \\n\".format(0))\n",
        "\n",
        "\n"
      ],
      "metadata": {
        "id": "qzKSJdIX78mK"
      },
      "execution_count": null,
      "outputs": []
    },
    {
      "cell_type": "code",
      "source": [
        "info(scalar)"
      ],
      "metadata": {
        "colab": {
          "base_uri": "https://localhost:8080/"
        },
        "id": "TMtEnGZXA4gW",
        "outputId": "2c6c3534-32c6-4ca6-adaa-8398ffc95b8f"
      },
      "execution_count": null,
      "outputs": [
        {
          "output_type": "stream",
          "name": "stdout",
          "text": [
            "shape of tensor:() \n",
            "\n",
            "size of tensor:1 \n",
            "\n",
            "datatype of tensor:<dtype: 'int32'> \n",
            "\n",
            "no of axis/rank of tensor:0 \n",
            "\n",
            "no of elements in last axis / dim  of tensor:0 \n",
            "\n"
          ]
        }
      ]
    },
    {
      "cell_type": "code",
      "source": [
        "info(vector)"
      ],
      "metadata": {
        "colab": {
          "base_uri": "https://localhost:8080/"
        },
        "id": "65_sN2BBA4dw",
        "outputId": "62ec4197-3459-4b5a-89dc-be395ab0e15b"
      },
      "execution_count": null,
      "outputs": [
        {
          "output_type": "stream",
          "name": "stdout",
          "text": [
            "shape of tensor:(4,) \n",
            "\n",
            "size of tensor:4 \n",
            "\n",
            "datatype of tensor:<dtype: 'int32'> \n",
            "\n",
            "no of axis/rank of tensor:1 \n",
            "\n",
            "no of elements in last axis / dim  of tensor:4 \n",
            "\n"
          ]
        }
      ]
    },
    {
      "cell_type": "code",
      "source": [
        "info(matrix)"
      ],
      "metadata": {
        "colab": {
          "base_uri": "https://localhost:8080/"
        },
        "id": "1CbgjLoTA4a0",
        "outputId": "9d2ee72a-bf5d-488b-e70b-f818c3f3745a"
      },
      "execution_count": null,
      "outputs": [
        {
          "output_type": "stream",
          "name": "stdout",
          "text": [
            "shape of tensor:(2, 8) \n",
            "\n",
            "size of tensor:16 \n",
            "\n",
            "datatype of tensor:<dtype: 'int32'> \n",
            "\n",
            "no of axis/rank of tensor:2 \n",
            "\n",
            "no of elements in last axis / dim  of tensor:8 \n",
            "\n"
          ]
        }
      ]
    },
    {
      "cell_type": "code",
      "source": [
        "info(tensor)"
      ],
      "metadata": {
        "colab": {
          "base_uri": "https://localhost:8080/"
        },
        "id": "Cno703TAA4YA",
        "outputId": "3db6cc87-fefb-45e8-bca9-4931b114b370"
      },
      "execution_count": null,
      "outputs": [
        {
          "output_type": "stream",
          "name": "stdout",
          "text": [
            "shape of tensor:(2, 4, 2, 2, 1) \n",
            "\n",
            "size of tensor:32 \n",
            "\n",
            "datatype of tensor:<dtype: 'int32'> \n",
            "\n",
            "no of axis/rank of tensor:5 \n",
            "\n",
            "no of elements in last axis / dim  of tensor:1 \n",
            "\n"
          ]
        }
      ]
    },
    {
      "cell_type": "code",
      "source": [
        "a=tf.random.Generator.from_seed(123)\n",
        "t1= a.uniform(shape=(5,300))\n",
        "t1"
      ],
      "metadata": {
        "colab": {
          "base_uri": "https://localhost:8080/"
        },
        "id": "hl-INn6Y-lSV",
        "outputId": "2d30f438-f685-45b2-ed9b-2ea28af3fb42"
      },
      "execution_count": null,
      "outputs": [
        {
          "output_type": "execute_result",
          "data": {
            "text/plain": [
              "<tf.Tensor: shape=(5, 300), dtype=float32, numpy=\n",
              "array([[0.65647066, 0.30283117, 0.18523741, ..., 0.86160827, 0.505566  ,\n",
              "        0.8621572 ],\n",
              "       [0.6242349 , 0.5667416 , 0.08933961, ..., 0.6782286 , 0.6932179 ,\n",
              "        0.5777626 ],\n",
              "       [0.95516586, 0.01184368, 0.5583087 , ..., 0.6503265 , 0.92341375,\n",
              "        0.68137383],\n",
              "       [0.4698242 , 0.9976375 , 0.27073598, ..., 0.35579598, 0.55311036,\n",
              "        0.08575082],\n",
              "       [0.98145294, 0.7378117 , 0.16731274, ..., 0.46515346, 0.26577473,\n",
              "        0.33852804]], dtype=float32)>"
            ]
          },
          "metadata": {},
          "execution_count": 124
        }
      ]
    },
    {
      "cell_type": "code",
      "source": [
        "t2= a.uniform(shape=(5,300))\n",
        "t2"
      ],
      "metadata": {
        "colab": {
          "base_uri": "https://localhost:8080/"
        },
        "id": "zLpV3gDTDscG",
        "outputId": "de09f4d4-84f2-4763-d0b7-58f682ada9eb"
      },
      "execution_count": null,
      "outputs": [
        {
          "output_type": "execute_result",
          "data": {
            "text/plain": [
              "<tf.Tensor: shape=(5, 300), dtype=float32, numpy=\n",
              "array([[0.8634263 , 0.9479408 , 0.40186977, ..., 0.43964934, 0.77066445,\n",
              "        0.84274256],\n",
              "       [0.80819035, 0.5346676 , 0.96623564, ..., 0.59659636, 0.9821116 ,\n",
              "        0.84692764],\n",
              "       [0.13327432, 0.30399787, 0.18289328, ..., 0.90298426, 0.6532866 ,\n",
              "        0.0819484 ],\n",
              "       [0.6427969 , 0.8915484 , 0.91348934, ..., 0.5364473 , 0.4295293 ,\n",
              "        0.5687958 ],\n",
              "       [0.83980227, 0.28973246, 0.22581995, ..., 0.22637641, 0.9677429 ,\n",
              "        0.34467125]], dtype=float32)>"
            ]
          },
          "metadata": {},
          "execution_count": 129
        }
      ]
    },
    {
      "cell_type": "code",
      "source": [
        "t1, t2, t1==t2"
      ],
      "metadata": {
        "colab": {
          "base_uri": "https://localhost:8080/"
        },
        "id": "TNopn7ZZDaOt",
        "outputId": "18f45c37-fa78-4142-e01d-a7647e481aaa"
      },
      "execution_count": null,
      "outputs": [
        {
          "output_type": "execute_result",
          "data": {
            "text/plain": [
              "(<tf.Tensor: shape=(5, 300), dtype=float32, numpy=\n",
              " array([[0.65647066, 0.30283117, 0.18523741, ..., 0.86160827, 0.505566  ,\n",
              "         0.8621572 ],\n",
              "        [0.6242349 , 0.5667416 , 0.08933961, ..., 0.6782286 , 0.6932179 ,\n",
              "         0.5777626 ],\n",
              "        [0.95516586, 0.01184368, 0.5583087 , ..., 0.6503265 , 0.92341375,\n",
              "         0.68137383],\n",
              "        [0.4698242 , 0.9976375 , 0.27073598, ..., 0.35579598, 0.55311036,\n",
              "         0.08575082],\n",
              "        [0.98145294, 0.7378117 , 0.16731274, ..., 0.46515346, 0.26577473,\n",
              "         0.33852804]], dtype=float32)>,\n",
              " <tf.Tensor: shape=(5, 300), dtype=float32, numpy=\n",
              " array([[0.5173956 , 0.70992315, 0.59254336, ..., 0.13532805, 0.67974293,\n",
              "         0.36152315],\n",
              "        [0.61961794, 0.7251115 , 0.48358274, ..., 0.45402873, 0.6856811 ,\n",
              "         0.6140553 ],\n",
              "        [0.49002945, 0.320701  , 0.94886625, ..., 0.21973765, 0.3839898 ,\n",
              "         0.59791327],\n",
              "        [0.6690408 , 0.44956183, 0.7159374 , ..., 0.02988112, 0.61158586,\n",
              "         0.9153842 ],\n",
              "        [0.5085608 , 0.6715504 , 0.48973525, ..., 0.05677736, 0.23771095,\n",
              "         0.25738704]], dtype=float32)>,\n",
              " <tf.Tensor: shape=(5, 300), dtype=bool, numpy=\n",
              " array([[False, False, False, ..., False, False, False],\n",
              "        [False, False, False, ..., False, False, False],\n",
              "        [False, False, False, ..., False, False, False],\n",
              "        [False, False, False, ..., False, False, False],\n",
              "        [False, False, False, ..., False, False, False]])>)"
            ]
          },
          "metadata": {},
          "execution_count": 118
        }
      ]
    },
    {
      "cell_type": "code",
      "source": [
        "c=t1 @ tf.transpose(t2)\n",
        "d= tf.matmul(t1, tf.transpose(t2))\n",
        "c==d"
      ],
      "metadata": {
        "colab": {
          "base_uri": "https://localhost:8080/"
        },
        "id": "RI79AWAsDbKu",
        "outputId": "ff483558-6bb4-4f22-c292-24ff8cd21d8d"
      },
      "execution_count": null,
      "outputs": [
        {
          "output_type": "execute_result",
          "data": {
            "text/plain": [
              "<tf.Tensor: shape=(5, 5), dtype=bool, numpy=\n",
              "array([[ True,  True,  True,  True,  True],\n",
              "       [ True,  True,  True,  True,  True],\n",
              "       [ True,  True,  True,  True,  True],\n",
              "       [ True,  True,  True,  True,  True],\n",
              "       [ True,  True,  True,  True,  True]])>"
            ]
          },
          "metadata": {},
          "execution_count": 133
        }
      ]
    },
    {
      "cell_type": "code",
      "source": [
        "e=t1 @ tf.reshape(t2 , shape=(300,5))\n",
        "f= tf.matmul(t1, tf.reshape(t2, shape=(300,5)))\n",
        "e==f"
      ],
      "metadata": {
        "colab": {
          "base_uri": "https://localhost:8080/"
        },
        "id": "sKfeOV49D_yD",
        "outputId": "1890d341-d533-4658-df3a-91e34f0cb41f"
      },
      "execution_count": null,
      "outputs": [
        {
          "output_type": "execute_result",
          "data": {
            "text/plain": [
              "<tf.Tensor: shape=(5, 5), dtype=bool, numpy=\n",
              "array([[ True,  True,  True,  True,  True],\n",
              "       [ True,  True,  True,  True,  True],\n",
              "       [ True,  True,  True,  True,  True],\n",
              "       [ True,  True,  True,  True,  True],\n",
              "       [ True,  True,  True,  True,  True]])>"
            ]
          },
          "metadata": {},
          "execution_count": 134
        }
      ]
    },
    {
      "cell_type": "code",
      "source": [
        "tf.tensordot(t1,t2, axes=0).shape"
      ],
      "metadata": {
        "colab": {
          "base_uri": "https://localhost:8080/"
        },
        "id": "gv7l-zl3S3hO",
        "outputId": "6ddab1d5-441e-4055-9457-86236390d517"
      },
      "execution_count": null,
      "outputs": [
        {
          "output_type": "execute_result",
          "data": {
            "text/plain": [
              "TensorShape([5, 300, 5, 300])"
            ]
          },
          "metadata": {},
          "execution_count": 138
        }
      ]
    },
    {
      "cell_type": "code",
      "source": [
        "start = 3\n",
        "limit = 18\n",
        "delta = 3\n",
        "tf.range(start, limit, delta)\n",
        "\n"
      ],
      "metadata": {
        "id": "5zCfKIrlUEFT"
      },
      "execution_count": null,
      "outputs": []
    },
    {
      "cell_type": "code",
      "source": [
        "# Method-1\n",
        "start=0\n",
        "limit=1\n",
        "delta=1 / (224*224*3)\n",
        "\n",
        "a=tf.reshape(tf.range(start, limit, delta) , shape=(224,224,3))\n",
        "a.shape"
      ],
      "metadata": {
        "colab": {
          "base_uri": "https://localhost:8080/"
        },
        "id": "k_7Mkd40VEBU",
        "outputId": "b31e6b05-901c-4555-f412-f2e3f9399311"
      },
      "execution_count": null,
      "outputs": [
        {
          "output_type": "execute_result",
          "data": {
            "text/plain": [
              "TensorShape([224, 224, 3])"
            ]
          },
          "metadata": {},
          "execution_count": 144
        }
      ]
    },
    {
      "cell_type": "code",
      "source": [
        "a"
      ],
      "metadata": {
        "colab": {
          "base_uri": "https://localhost:8080/"
        },
        "id": "rF3eHxKSXBS3",
        "outputId": "faac9f69-eb18-4c42-e9a0-08480c115f72"
      },
      "execution_count": null,
      "outputs": [
        {
          "output_type": "execute_result",
          "data": {
            "text/plain": [
              "<tf.Tensor: shape=(224, 224, 3), dtype=float32, numpy=\n",
              "array([[[0.0000000e+00, 6.6432822e-06, 1.3286564e-05],\n",
              "        [1.9929847e-05, 2.6573129e-05, 3.3216413e-05],\n",
              "        [3.9859693e-05, 4.6502973e-05, 5.3146257e-05],\n",
              "        ...,\n",
              "        [4.4044959e-03, 4.4111395e-03, 4.4177826e-03],\n",
              "        [4.4244258e-03, 4.4310694e-03, 4.4377125e-03],\n",
              "        [4.4443556e-03, 4.4509992e-03, 4.4576423e-03]],\n",
              "\n",
              "       [[4.4642854e-03, 4.4709290e-03, 4.4775722e-03],\n",
              "        [4.4842153e-03, 4.4908589e-03, 4.4975020e-03],\n",
              "        [4.5041451e-03, 4.5107887e-03, 4.5174318e-03],\n",
              "        ...,\n",
              "        [8.8687818e-03, 8.8754250e-03, 8.8820681e-03],\n",
              "        [8.8887112e-03, 8.8953553e-03, 8.9019984e-03],\n",
              "        [8.9086415e-03, 8.9152846e-03, 8.9219278e-03]],\n",
              "\n",
              "       [[8.9285709e-03, 8.9352150e-03, 8.9418581e-03],\n",
              "        [8.9485012e-03, 8.9551443e-03, 8.9617874e-03],\n",
              "        [8.9684306e-03, 8.9750746e-03, 8.9817178e-03],\n",
              "        ...,\n",
              "        [1.3333067e-02, 1.3339710e-02, 1.3346354e-02],\n",
              "        [1.3352998e-02, 1.3359641e-02, 1.3366284e-02],\n",
              "        [1.3372927e-02, 1.3379570e-02, 1.3386213e-02]],\n",
              "\n",
              "       ...,\n",
              "\n",
              "       [[9.8660713e-01, 9.8661375e-01, 9.8662043e-01],\n",
              "        [9.8662704e-01, 9.8663372e-01, 9.8664033e-01],\n",
              "        [9.8664701e-01, 9.8665363e-01, 9.8666024e-01],\n",
              "        ...,\n",
              "        [9.9101162e-01, 9.9101824e-01, 9.9102491e-01],\n",
              "        [9.9103153e-01, 9.9103820e-01, 9.9104482e-01],\n",
              "        [9.9105150e-01, 9.9105811e-01, 9.9106479e-01]],\n",
              "\n",
              "       [[9.9107140e-01, 9.9107808e-01, 9.9108469e-01],\n",
              "        [9.9109131e-01, 9.9109799e-01, 9.9110460e-01],\n",
              "        [9.9111128e-01, 9.9111789e-01, 9.9112457e-01],\n",
              "        ...,\n",
              "        [9.9547589e-01, 9.9548256e-01, 9.9548918e-01],\n",
              "        [9.9549586e-01, 9.9550247e-01, 9.9550915e-01],\n",
              "        [9.9551576e-01, 9.9552238e-01, 9.9552906e-01]],\n",
              "\n",
              "       [[9.9553567e-01, 9.9554235e-01, 9.9554896e-01],\n",
              "        [9.9555564e-01, 9.9556226e-01, 9.9556893e-01],\n",
              "        [9.9557555e-01, 9.9558222e-01, 9.9558884e-01],\n",
              "        ...,\n",
              "        [9.9994022e-01, 9.9994683e-01, 9.9995345e-01],\n",
              "        [9.9996012e-01, 9.9996674e-01, 9.9997342e-01],\n",
              "        [9.9998003e-01, 9.9998671e-01, 9.9999332e-01]]], dtype=float32)>"
            ]
          },
          "metadata": {},
          "execution_count": 148
        }
      ]
    },
    {
      "cell_type": "code",
      "source": [
        "# Method-2\n",
        "b= tf.random.get_global_generator()\n",
        "\n",
        "b.normal(shape=(224,224,3))% 1\n"
      ],
      "metadata": {
        "colab": {
          "base_uri": "https://localhost:8080/"
        },
        "id": "J5fDE2adWUWu",
        "outputId": "b4934cc6-1aec-415c-9ada-79ba5538b9a9"
      },
      "execution_count": null,
      "outputs": [
        {
          "output_type": "execute_result",
          "data": {
            "text/plain": [
              "<tf.Tensor: shape=(224, 224, 3), dtype=float32, numpy=\n",
              "array([[[0.74547875, 0.64436245, 0.8497162 ],\n",
              "        [0.57159865, 0.99577737, 0.29317045],\n",
              "        [0.21621686, 0.7758781 , 0.35531467],\n",
              "        ...,\n",
              "        [0.5287932 , 0.8020197 , 0.10175902],\n",
              "        [0.33256653, 0.13362384, 0.8074783 ],\n",
              "        [0.41193974, 0.04515523, 0.59567136]],\n",
              "\n",
              "       [[0.8209652 , 0.17500572, 0.69381285],\n",
              "        [0.92625225, 0.81844485, 0.09260748],\n",
              "        [0.08713627, 0.10087341, 0.2141546 ],\n",
              "        ...,\n",
              "        [0.3209623 , 0.26274884, 0.87817377],\n",
              "        [0.09577954, 0.16712306, 0.732353  ],\n",
              "        [0.40773058, 0.7177696 , 0.19847769]],\n",
              "\n",
              "       [[0.03877266, 0.9249064 , 0.00173656],\n",
              "        [0.49742478, 0.03753331, 0.9071518 ],\n",
              "        [0.43739748, 0.0256373 , 0.6554699 ],\n",
              "        ...,\n",
              "        [0.76294446, 0.17868386, 0.65612644],\n",
              "        [0.20215583, 0.75977147, 0.56423783],\n",
              "        [0.47923243, 0.8812351 , 0.7277894 ]],\n",
              "\n",
              "       ...,\n",
              "\n",
              "       [[0.2537639 , 0.90725815, 0.8233819 ],\n",
              "        [0.68097734, 0.7434119 , 0.7324678 ],\n",
              "        [0.1537839 , 0.07098702, 0.17730474],\n",
              "        ...,\n",
              "        [0.49412668, 0.1927774 , 0.09971207],\n",
              "        [0.5356054 , 0.406834  , 0.87937737],\n",
              "        [0.2979756 , 0.4897459 , 0.42754775]],\n",
              "\n",
              "       [[0.9765247 , 0.01805115, 0.75249964],\n",
              "        [0.45440733, 0.5986054 , 0.8810005 ],\n",
              "        [0.0281455 , 0.2894056 , 0.69466674],\n",
              "        ...,\n",
              "        [0.8466505 , 0.4880967 , 0.31558454],\n",
              "        [0.5373411 , 0.94934666, 0.44965202],\n",
              "        [0.6339105 , 0.38371637, 0.34406197]],\n",
              "\n",
              "       [[0.45900023, 0.82409203, 0.17921788],\n",
              "        [0.39174512, 0.8761006 , 0.21426551],\n",
              "        [0.02518701, 0.5234103 , 0.696807  ],\n",
              "        ...,\n",
              "        [0.03545034, 0.27722466, 0.05593714],\n",
              "        [0.6163012 , 0.9200454 , 0.77674884],\n",
              "        [0.7268132 , 0.5906196 , 0.5990763 ]]], dtype=float32)>"
            ]
          },
          "metadata": {},
          "execution_count": 152
        }
      ]
    },
    {
      "cell_type": "code",
      "source": [],
      "metadata": {
        "id": "qy0Id5qDVPzb"
      },
      "execution_count": null,
      "outputs": []
    }
  ]
}